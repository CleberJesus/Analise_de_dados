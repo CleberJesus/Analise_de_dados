{
  "nbformat": 4,
  "nbformat_minor": 0,
  "metadata": {
    "colab": {
      "provenance": [],
      "authorship_tag": "ABX9TyNA3xpPLOJH7yEiefsn1lIJ",
      "include_colab_link": true
    },
    "kernelspec": {
      "name": "python3",
      "display_name": "Python 3"
    },
    "language_info": {
      "name": "python"
    }
  },
  "cells": [
    {
      "cell_type": "markdown",
      "metadata": {
        "id": "view-in-github",
        "colab_type": "text"
      },
      "source": [
        "<a href=\"https://colab.research.google.com/github/CleberJesus/Analise_de_dados/blob/main/Untitled3.ipynb\" target=\"_parent\"><img src=\"https://colab.research.google.com/assets/colab-badge.svg\" alt=\"Open In Colab\"/></a>"
      ]
    },
    {
      "cell_type": "markdown",
      "source": [
        "# **Funções em Python**"
      ],
      "metadata": {
        "id": "AeoKYwugMiXw"
      }
    },
    {
      "cell_type": "code",
      "execution_count": 1,
      "metadata": {
        "id": "ka-geG6zMYin"
      },
      "outputs": [],
      "source": [
        "def exibir_mensagem():\n",
        "  print(\"olá mundo\")"
      ]
    },
    {
      "cell_type": "code",
      "source": [
        "exibir_mensagem()"
      ],
      "metadata": {
        "colab": {
          "base_uri": "https://localhost:8080/"
        },
        "id": "YI4YPP8fNi58",
        "outputId": "b6caca9e-c14e-415f-d841-4aac3e22b24e"
      },
      "execution_count": 2,
      "outputs": [
        {
          "output_type": "stream",
          "name": "stdout",
          "text": [
            "olá mundo\n"
          ]
        }
      ]
    },
    {
      "cell_type": "code",
      "source": [
        "def exibir_mensagem_2(nome):\n",
        "  print(f\"Olá {nome}\")\n"
      ],
      "metadata": {
        "id": "XepCkTIiNjRR"
      },
      "execution_count": 4,
      "outputs": []
    },
    {
      "cell_type": "code",
      "source": [
        "exibir_mensagem_2('cleber')"
      ],
      "metadata": {
        "colab": {
          "base_uri": "https://localhost:8080/"
        },
        "id": "WZoZLcIqNjj1",
        "outputId": "9bcdb93a-b8da-4d79-d757-6ff1ba8852ab"
      },
      "execution_count": 5,
      "outputs": [
        {
          "output_type": "stream",
          "name": "stdout",
          "text": [
            "Olá cleber\n"
          ]
        }
      ]
    },
    {
      "cell_type": "code",
      "source": [
        "def exibir_mensagem_3(nome = \"anônimo\"):\n",
        "  print(f\"Olá {nome}\")"
      ],
      "metadata": {
        "id": "F2HBbj8_Nj1W"
      },
      "execution_count": 8,
      "outputs": []
    },
    {
      "cell_type": "code",
      "source": [
        "exibir_mensagem_3()"
      ],
      "metadata": {
        "colab": {
          "base_uri": "https://localhost:8080/"
        },
        "id": "5Nakn8bJNkHn",
        "outputId": "d35eb176-3178-4346-9e77-96b388bb28ee"
      },
      "execution_count": 9,
      "outputs": [
        {
          "output_type": "stream",
          "name": "stdout",
          "text": [
            "Olá anônimo\n"
          ]
        }
      ]
    },
    {
      "cell_type": "code",
      "source": [
        "exibir_mensagem_3(\"maria\")"
      ],
      "metadata": {
        "colab": {
          "base_uri": "https://localhost:8080/"
        },
        "id": "zNX1-cdnNkcg",
        "outputId": "0e798c13-1a1d-409a-a268-daf8ea1954cc"
      },
      "execution_count": 10,
      "outputs": [
        {
          "output_type": "stream",
          "name": "stdout",
          "text": [
            "Olá maria\n"
          ]
        }
      ]
    },
    {
      "cell_type": "code",
      "source": [
        "def retorna_ant_e_suces(numero):\n",
        "  sucessor = numero + 1\n",
        "  antecessor = numero - 1\n",
        "  return sucessor, antecessor"
      ],
      "metadata": {
        "id": "Xsxrls-WNkyx"
      },
      "execution_count": 11,
      "outputs": []
    },
    {
      "cell_type": "code",
      "source": [
        "print(retorna_ant_e_suces(3))"
      ],
      "metadata": {
        "colab": {
          "base_uri": "https://localhost:8080/"
        },
        "id": "5pvKmiqENlGX",
        "outputId": "b4a7413e-1ea1-4abf-8b98-76ab08c544e4"
      },
      "execution_count": 12,
      "outputs": [
        {
          "output_type": "stream",
          "name": "stdout",
          "text": [
            "(4, 2)\n"
          ]
        }
      ]
    },
    {
      "cell_type": "code",
      "source": [
        "#argumento nomeados\n",
        "def salvar_carros(marca,modelo,ano,placa):\n",
        "  #salvar carros no banco de dados\n",
        "  print(f\"Carro salvo com sucesso! {marca}/{modelo}/{ano}/{placa}\")\n"
      ],
      "metadata": {
        "id": "vA9XHNGtNl7i"
      },
      "execution_count": 13,
      "outputs": []
    },
    {
      "cell_type": "code",
      "source": [
        "salvar_carros(\"fiat\", \"pailo\",\"1999\",\"abc1256\")"
      ],
      "metadata": {
        "colab": {
          "base_uri": "https://localhost:8080/"
        },
        "id": "B5kXF6DsNmQ_",
        "outputId": "2555dd4f-d43c-4acb-deb0-a50d2daacb0d"
      },
      "execution_count": 14,
      "outputs": [
        {
          "output_type": "stream",
          "name": "stdout",
          "text": [
            "Carro salvo com sucesso! fiat/pailo/1999/abc1256\n"
          ]
        }
      ]
    },
    {
      "cell_type": "code",
      "source": [
        "salvar_carros(marca=\"fiat\",modelo=\"uno\",ano=2010,placa=\"vbg1256\")\n"
      ],
      "metadata": {
        "colab": {
          "base_uri": "https://localhost:8080/"
        },
        "id": "i1bwitdXOaH0",
        "outputId": "364c53a1-d491-49f6-9234-183c2beb0003"
      },
      "execution_count": 18,
      "outputs": [
        {
          "output_type": "stream",
          "name": "stdout",
          "text": [
            "Carro salvo com sucesso! fiat/uno/2010/vbg1256\n"
          ]
        }
      ]
    },
    {
      "cell_type": "code",
      "source": [
        "salvar_carros(**{'marca':\"ford\",'modelo':\"edge\",'ano':2022,'placa':\"vbg1256\"})"
      ],
      "metadata": {
        "colab": {
          "base_uri": "https://localhost:8080/"
        },
        "id": "mLkrW1DPOaYm",
        "outputId": "d1203341-42c9-43e5-ac70-c641213064d5"
      },
      "execution_count": 19,
      "outputs": [
        {
          "output_type": "stream",
          "name": "stdout",
          "text": [
            "Carro salvo com sucesso! ford/edge/2022/vbg1256\n"
          ]
        }
      ]
    },
    {
      "cell_type": "markdown",
      "source": [
        "# Args Kwargs(* e **)"
      ],
      "metadata": {
        "id": "iBRj-W6tTJ-r"
      }
    },
    {
      "cell_type": "code",
      "source": [
        "def exibir_poema(data_extenso, *lista, **dicionario):\n",
        "  texto = \"\\n\".join(lista)\n",
        "  meta_dados = \"\\n\".join([f\"{chave.title()}: {valor}\" for chave, valor in dicionario.items()])\n",
        "  mensagem = f\"{data_extenso}\\n\\n{texto}\\n\\n{meta_dados}\"\n",
        "  print(mensagem)"
      ],
      "metadata": {
        "id": "yh4TidL0Oak0"
      },
      "execution_count": 20,
      "outputs": []
    },
    {
      "cell_type": "code",
      "source": [
        "exibir_poema(\n",
        "    \"sexta, 26 de agosto de 2022\",\n",
        "    \"Python para Analise de dados\",\n",
        "    \"DIO\",\n",
        "    \"Unimed-BH\",\n",
        "    autor = \"cbcj\",\n",
        "    ano = \"2022\",\n",
        "\n",
        ")"
      ],
      "metadata": {
        "colab": {
          "base_uri": "https://localhost:8080/"
        },
        "id": "ook0hX2uOaw1",
        "outputId": "50b4df06-56d5-4ba0-e716-451d76fccdb3"
      },
      "execution_count": 21,
      "outputs": [
        {
          "output_type": "stream",
          "name": "stdout",
          "text": [
            "sexta, 26 de agosto de 2022\n",
            "\n",
            "Python para Analise de dados\n",
            "DIO\n",
            "Unimed-BH\n",
            "\n",
            "Autor: cbcj\n",
            "Ano: 2022\n"
          ]
        }
      ]
    },
    {
      "cell_type": "markdown",
      "source": [
        "# Parâmetros especiais "
      ],
      "metadata": {
        "id": "jTAaiNHNcduY"
      }
    },
    {
      "cell_type": "code",
      "source": [
        "#por posição e nomeado = /\n",
        "def criar_carro(modelo, ano, placa,/,marca, motor,combustivel):\n",
        "  print(modelo, ano, placa, marca,motor,combustivel)\n",
        "\n",
        "#válido\n",
        "criar_carro(\"palio\", 1999, \"abc1245\", marca=\"fiat\", motor=\"1.0\",combustivel=\"gasolina\")\n",
        "\n",
        "#inválido\n",
        "criar_carro(modelo=\"palio\",ano= 1999,placa= \"abc1245\", marca=\"fiat\", motor=\"1.0\",combustivel=\"gasolina\")\n",
        "\n"
      ],
      "metadata": {
        "id": "_O4ASFDLObw5"
      },
      "execution_count": null,
      "outputs": []
    },
    {
      "cell_type": "code",
      "source": [
        "#somente nomeados\n",
        "def criar_carro(*,modelo, ano, placa,marca, motor,combustivel):\n",
        "  print(modelo, ano, placa, marca,motor,combustivel)\n",
        "\n",
        "#válido\n",
        "criar_carro(modelo=\"palio\",ano= 1999,placa= \"abc1245\", marca=\"fiat\", motor=\"1.0\",combustivel=\"gasolina\")\n",
        "\n"
      ],
      "metadata": {
        "id": "g_jp7ZuUOcDD"
      },
      "execution_count": null,
      "outputs": []
    },
    {
      "cell_type": "code",
      "source": [
        "#hibrído\n",
        "#somente nomeados\n",
        "def criar_carro(modelo, ano, placa,/,marca,*, motor,combustivel):\n",
        "  print(modelo, ano, placa, marca,motor,combustivel)\n",
        "\n",
        "#marca fica opcional funciona tanto por posição ou nomeado\n"
      ],
      "metadata": {
        "id": "r2qMGuZQOcTZ"
      },
      "execution_count": null,
      "outputs": []
    },
    {
      "cell_type": "code",
      "source": [
        "def somar(a,b):\n",
        "  return a +b\n",
        "\n",
        "def exibir_resultado(a,b,funcao):\n",
        "  resultado = funcao(a,b)\n",
        "  print(f\"O resultado da operação {a} + {b} = {resultado}\")\n",
        "\n",
        "\n",
        "exibir_resultado(2,3,somar)\n",
        "\n"
      ],
      "metadata": {
        "colab": {
          "base_uri": "https://localhost:8080/"
        },
        "id": "pCNaZN-kfaQY",
        "outputId": "db63fde9-c9d0-42cf-83b1-d20be6708a8e"
      },
      "execution_count": 22,
      "outputs": [
        {
          "output_type": "stream",
          "name": "stdout",
          "text": [
            "O resultado da operação 2 + 3 = 5\n"
          ]
        }
      ]
    },
    {
      "cell_type": "markdown",
      "source": [
        "# Escopo local e global"
      ],
      "metadata": {
        "id": "3cCKDgpVhakI"
      }
    },
    {
      "cell_type": "code",
      "source": [
        "salario = 2000\n",
        "\n",
        "def salario_bonus(bonus):\n",
        "  global salario\n",
        "  salario += bonus\n",
        "  return salario\n",
        "\n",
        "\n",
        "salario_bonus(500)"
      ],
      "metadata": {
        "colab": {
          "base_uri": "https://localhost:8080/"
        },
        "id": "dMQhA5FMfahQ",
        "outputId": "0393c943-9ae1-4c3d-b037-d2b4b0b22a24"
      },
      "execution_count": 25,
      "outputs": [
        {
          "output_type": "execute_result",
          "data": {
            "text/plain": [
              "2500"
            ]
          },
          "metadata": {},
          "execution_count": 25
        }
      ]
    },
    {
      "cell_type": "code",
      "source": [
        "salario = 1000\n",
        "\n",
        "def print_sal(bonus, lista):\n",
        "  global salario\n",
        "\n",
        "  lista_aux = lista.copy()\n",
        "  lista_aux.append(2)\n",
        "  print(f\"lista aux = {lista_aux}\")\n",
        "\n",
        "  salario += bonus\n",
        "  return salario\n",
        "\n",
        "\n",
        "\n",
        "lista = [1]\n",
        "print(lista)\n",
        "print_sal(500, lista)"
      ],
      "metadata": {
        "colab": {
          "base_uri": "https://localhost:8080/"
        },
        "id": "CRhKps4sfayD",
        "outputId": "1082e604-c035-4c38-c0fd-c6d05bae3464"
      },
      "execution_count": 28,
      "outputs": [
        {
          "output_type": "stream",
          "name": "stdout",
          "text": [
            "[1]\n",
            "lista aux = [1, 2]\n"
          ]
        },
        {
          "output_type": "execute_result",
          "data": {
            "text/plain": [
              "1500"
            ]
          },
          "metadata": {},
          "execution_count": 28
        }
      ]
    },
    {
      "cell_type": "code",
      "source": [],
      "metadata": {
        "id": "pZW6iTPGfbBF"
      },
      "execution_count": null,
      "outputs": []
    },
    {
      "cell_type": "code",
      "source": [],
      "metadata": {
        "id": "9MZBN-PXfbP2"
      },
      "execution_count": null,
      "outputs": []
    },
    {
      "cell_type": "code",
      "source": [],
      "metadata": {
        "id": "f44_i510fbfL"
      },
      "execution_count": null,
      "outputs": []
    },
    {
      "cell_type": "code",
      "source": [],
      "metadata": {
        "id": "dr8MVAF7fbt_"
      },
      "execution_count": null,
      "outputs": []
    }
  ]
}